{
 "cells": [
  {
   "cell_type": "code",
   "execution_count": 1,
   "metadata": {},
   "outputs": [
    {
     "name": "stdout",
     "output_type": "stream",
     "text": [
      "Shape of the data:\n",
      "(150, 5)\n",
      "\n",
      "Data Type:\n",
      "<class 'pandas.core.frame.DataFrame'>\n",
      "\n",
      "First 3 rows:\n",
      "   sepal_length  sepal_width  petal_length  petal_width      species\n",
      "0           5.1          3.5           1.4          0.2  Iris-setosa\n",
      "1           4.9          3.0           1.4          0.2  Iris-setosa\n",
      "2           4.7          3.2           1.3          0.2  Iris-setosa\n"
     ]
    }
   ],
   "source": [
    "# 1\n",
    "import pandas as pd\n",
    "data = pd.read_csv(\"iris.csv\")\n",
    "print(\"Shape of the data:\")\n",
    "print(data.shape)\n",
    "print(\"\\nData Type:\")\n",
    "print(type(data))\n",
    "print(\"\\nFirst 3 rows:\")\n",
    "print(data.head(3))"
   ]
  },
  {
   "cell_type": "code",
   "execution_count": 1,
   "metadata": {},
   "outputs": [
    {
     "name": "stdout",
     "output_type": "stream",
     "text": [
      "\n",
      "Keys of Iris dataset:\n",
      "Index(['sepal_length', 'sepal_width', 'petal_length', 'petal_width',\n",
      "       'species'],\n",
      "      dtype='object')\n",
      "\n",
      "Number of rows and columns of Iris dataset:\n",
      "(150, 5)\n"
     ]
    }
   ],
   "source": [
    "# 2\n",
    "import pandas as pd\n",
    "iris_data = pd.read_csv(\"iris.csv\")\n",
    "print(\"\\nKeys of Iris dataset:\")\n",
    "print(iris_data.keys())\n",
    "print(\"\\nNumber of rows and columns of Iris dataset:\")\n",
    "print(iris_data.shape) "
   ]
  },
  {
   "cell_type": "code",
   "execution_count": 3,
   "metadata": {},
   "outputs": [
    {
     "name": "stdout",
     "output_type": "stream",
     "text": [
      "<class 'pandas.core.frame.DataFrame'>\n",
      "RangeIndex: 150 entries, 0 to 149\n",
      "Data columns (total 5 columns):\n",
      " #   Column        Non-Null Count  Dtype  \n",
      "---  ------        --------------  -----  \n",
      " 0   sepal_length  150 non-null    float64\n",
      " 1   sepal_width   150 non-null    float64\n",
      " 2   petal_length  150 non-null    float64\n",
      " 3   petal_width   150 non-null    float64\n",
      " 4   species       150 non-null    object \n",
      "dtypes: float64(4), object(1)\n",
      "memory usage: 6.0+ KB\n",
      "None\n"
     ]
    }
   ],
   "source": [
    "# 3\n",
    "import pandas as pd\n",
    "iris = pd.read_csv(\"iris.csv\")\n",
    "print(iris.info())"
   ]
  },
  {
   "cell_type": "code",
   "execution_count": 4,
   "metadata": {},
   "outputs": [
    {
     "name": "stdout",
     "output_type": "stream",
     "text": [
      "NumPy array:\n",
      " [[1. 0. 0. 0.]\n",
      " [0. 1. 0. 0.]\n",
      " [0. 0. 1. 0.]\n",
      " [0. 0. 0. 1.]]\n",
      "\n",
      "SciPy sparse CSR matrix:\n",
      "   (0, 0)\t1.0\n",
      "  (1, 1)\t1.0\n",
      "  (2, 2)\t1.0\n",
      "  (3, 3)\t1.0\n"
     ]
    }
   ],
   "source": [
    "# 4\n",
    "import numpy as np\n",
    "from scipy import sparse\n",
    "eye = np.eye(4)\n",
    "print(\"NumPy array:\\n\", eye)\n",
    "sparse_matrix = sparse.csr_matrix(eye)\n",
    "print(\"\\nSciPy sparse CSR matrix:\\n\", sparse_matrix)"
   ]
  },
  {
   "cell_type": "code",
   "execution_count": 5,
   "metadata": {},
   "outputs": [
    {
     "name": "stdout",
     "output_type": "stream",
     "text": [
      "       sepal_length  sepal_width  petal_length  petal_width\n",
      "count    150.000000   150.000000    150.000000   150.000000\n",
      "mean       5.843333     3.054000      3.758667     1.198667\n",
      "std        0.828066     0.433594      1.764420     0.763161\n",
      "min        4.300000     2.000000      1.000000     0.100000\n",
      "25%        5.100000     2.800000      1.600000     0.300000\n",
      "50%        5.800000     3.000000      4.350000     1.300000\n",
      "75%        6.400000     3.300000      5.100000     1.800000\n",
      "max        7.900000     4.400000      6.900000     2.500000\n"
     ]
    }
   ],
   "source": [
    "# 5\n",
    "import pandas as pd\n",
    "data = pd.read_csv(\"iris.csv\")\n",
    "print(data.describe())"
   ]
  },
  {
   "cell_type": "code",
   "execution_count": 7,
   "metadata": {},
   "outputs": [
    {
     "name": "stdout",
     "output_type": "stream",
     "text": [
      "Observations of each species:\n",
      "species\n",
      "Iris-setosa        50\n",
      "Iris-versicolor    50\n",
      "Iris-virginica     50\n",
      "Name: count, dtype: int64\n"
     ]
    }
   ],
   "source": [
    "# 6\n",
    "import pandas as pd\n",
    "data = pd.read_csv(\"iris.csv\")\n",
    "print(\"Observations of each species:\")\n",
    "print(data['species'].value_counts()) "
   ]
  },
  {
   "cell_type": "code",
   "execution_count": 11,
   "metadata": {},
   "outputs": [
    {
     "name": "stdout",
     "output_type": "stream",
     "text": [
      "Original Data:\n",
      "   sepal_length  sepal_width  petal_length  petal_width      species\n",
      "0           5.1          3.5           1.4          0.2  Iris-setosa\n",
      "1           4.9          3.0           1.4          0.2  Iris-setosa\n",
      "2           4.7          3.2           1.3          0.2  Iris-setosa\n",
      "3           4.6          3.1           1.5          0.2  Iris-setosa\n",
      "4           5.0          3.6           1.4          0.2  Iris-setosa\n",
      "After removing id column:\n",
      "   sepal_width  petal_length  petal_width      species\n",
      "0          3.5           1.4          0.2  Iris-setosa\n",
      "1          3.0           1.4          0.2  Iris-setosa\n",
      "2          3.2           1.3          0.2  Iris-setosa\n",
      "3          3.1           1.5          0.2  Iris-setosa\n",
      "4          3.6           1.4          0.2  Iris-setosa\n"
     ]
    }
   ],
   "source": [
    "# 7\n",
    "import pandas as pd\n",
    "data = pd.read_csv(\"iris.csv\")\n",
    "print(\"Original Data:\")\n",
    "print(data.head(5))\n",
    "new_data = data.drop('sepal_length',axis=1)\n",
    "print(\"After removing id column:\")\n",
    "print(new_data.head(5)) "
   ]
  },
  {
   "cell_type": "code",
   "execution_count": 16,
   "metadata": {},
   "outputs": [
    {
     "name": "stdout",
     "output_type": "stream",
     "text": [
      "Original data:\n",
      "   sepal_length  sepal_width  petal_length  petal_width      species\n",
      "0           5.1          3.5           1.4          0.2  Iris-setosa\n",
      "1           4.9          3.0           1.4          0.2  Iris-setosa\n",
      "2           4.7          3.2           1.3          0.2  Iris-setosa\n",
      "3           4.6          3.1           1.5          0.2  Iris-setosa\n",
      "4           5.0          3.6           1.4          0.2  Iris-setosa\n",
      "Dataframe :\n",
      " [[3.5 1.4 0.2 'Iris-setosa']\n",
      " [3.0 1.4 0.2 'Iris-setosa']\n",
      " [3.2 1.3 0.2 'Iris-setosa']\n",
      " [3.1 1.5 0.2 'Iris-setosa']\n",
      " [3.6 1.4 0.2 'Iris-setosa']\n",
      " [3.9 1.7 0.4 'Iris-setosa']\n",
      " [3.4 1.4 0.3 'Iris-setosa']\n",
      " [3.4 1.5 0.2 'Iris-setosa']\n",
      " [2.9 1.4 0.2 'Iris-setosa']\n",
      " [3.1 1.5 0.1 'Iris-setosa']\n",
      " [3.7 1.5 0.2 'Iris-setosa']\n",
      " [3.4 1.6 0.2 'Iris-setosa']\n",
      " [3.0 1.4 0.1 'Iris-setosa']\n",
      " [3.0 1.1 0.1 'Iris-setosa']\n",
      " [4.0 1.2 0.2 'Iris-setosa']\n",
      " [4.4 1.5 0.4 'Iris-setosa']\n",
      " [3.9 1.3 0.4 'Iris-setosa']\n",
      " [3.5 1.4 0.3 'Iris-setosa']\n",
      " [3.8 1.7 0.3 'Iris-setosa']\n",
      " [3.8 1.5 0.3 'Iris-setosa']\n",
      " [3.4 1.7 0.2 'Iris-setosa']\n",
      " [3.7 1.5 0.4 'Iris-setosa']\n",
      " [3.6 1.0 0.2 'Iris-setosa']\n",
      " [3.3 1.7 0.5 'Iris-setosa']\n",
      " [3.4 1.9 0.2 'Iris-setosa']\n",
      " [3.0 1.6 0.2 'Iris-setosa']\n",
      " [3.4 1.6 0.4 'Iris-setosa']\n",
      " [3.5 1.5 0.2 'Iris-setosa']\n",
      " [3.4 1.4 0.2 'Iris-setosa']\n",
      " [3.2 1.6 0.2 'Iris-setosa']\n",
      " [3.1 1.6 0.2 'Iris-setosa']\n",
      " [3.4 1.5 0.4 'Iris-setosa']\n",
      " [4.1 1.5 0.1 'Iris-setosa']\n",
      " [4.2 1.4 0.2 'Iris-setosa']\n",
      " [3.1 1.5 0.1 'Iris-setosa']\n",
      " [3.2 1.2 0.2 'Iris-setosa']\n",
      " [3.5 1.3 0.2 'Iris-setosa']\n",
      " [3.1 1.5 0.1 'Iris-setosa']\n",
      " [3.0 1.3 0.2 'Iris-setosa']\n",
      " [3.4 1.5 0.2 'Iris-setosa']\n",
      " [3.5 1.3 0.3 'Iris-setosa']\n",
      " [2.3 1.3 0.3 'Iris-setosa']\n",
      " [3.2 1.3 0.2 'Iris-setosa']\n",
      " [3.5 1.6 0.6 'Iris-setosa']\n",
      " [3.8 1.9 0.4 'Iris-setosa']\n",
      " [3.0 1.4 0.3 'Iris-setosa']\n",
      " [3.8 1.6 0.2 'Iris-setosa']\n",
      " [3.2 1.4 0.2 'Iris-setosa']\n",
      " [3.7 1.5 0.2 'Iris-setosa']\n",
      " [3.3 1.4 0.2 'Iris-setosa']\n",
      " [3.2 4.7 1.4 'Iris-versicolor']\n",
      " [3.2 4.5 1.5 'Iris-versicolor']\n",
      " [3.1 4.9 1.5 'Iris-versicolor']\n",
      " [2.3 4.0 1.3 'Iris-versicolor']\n",
      " [2.8 4.6 1.5 'Iris-versicolor']\n",
      " [2.8 4.5 1.3 'Iris-versicolor']\n",
      " [3.3 4.7 1.6 'Iris-versicolor']\n",
      " [2.4 3.3 1.0 'Iris-versicolor']\n",
      " [2.9 4.6 1.3 'Iris-versicolor']\n",
      " [2.7 3.9 1.4 'Iris-versicolor']\n",
      " [2.0 3.5 1.0 'Iris-versicolor']\n",
      " [3.0 4.2 1.5 'Iris-versicolor']\n",
      " [2.2 4.0 1.0 'Iris-versicolor']\n",
      " [2.9 4.7 1.4 'Iris-versicolor']\n",
      " [2.9 3.6 1.3 'Iris-versicolor']\n",
      " [3.1 4.4 1.4 'Iris-versicolor']\n",
      " [3.0 4.5 1.5 'Iris-versicolor']\n",
      " [2.7 4.1 1.0 'Iris-versicolor']\n",
      " [2.2 4.5 1.5 'Iris-versicolor']\n",
      " [2.5 3.9 1.1 'Iris-versicolor']\n",
      " [3.2 4.8 1.8 'Iris-versicolor']\n",
      " [2.8 4.0 1.3 'Iris-versicolor']\n",
      " [2.5 4.9 1.5 'Iris-versicolor']\n",
      " [2.8 4.7 1.2 'Iris-versicolor']\n",
      " [2.9 4.3 1.3 'Iris-versicolor']\n",
      " [3.0 4.4 1.4 'Iris-versicolor']\n",
      " [2.8 4.8 1.4 'Iris-versicolor']\n",
      " [3.0 5.0 1.7 'Iris-versicolor']\n",
      " [2.9 4.5 1.5 'Iris-versicolor']\n",
      " [2.6 3.5 1.0 'Iris-versicolor']\n",
      " [2.4 3.8 1.1 'Iris-versicolor']\n",
      " [2.4 3.7 1.0 'Iris-versicolor']\n",
      " [2.7 3.9 1.2 'Iris-versicolor']\n",
      " [2.7 5.1 1.6 'Iris-versicolor']\n",
      " [3.0 4.5 1.5 'Iris-versicolor']\n",
      " [3.4 4.5 1.6 'Iris-versicolor']\n",
      " [3.1 4.7 1.5 'Iris-versicolor']\n",
      " [2.3 4.4 1.3 'Iris-versicolor']\n",
      " [3.0 4.1 1.3 'Iris-versicolor']\n",
      " [2.5 4.0 1.3 'Iris-versicolor']\n",
      " [2.6 4.4 1.2 'Iris-versicolor']\n",
      " [3.0 4.6 1.4 'Iris-versicolor']\n",
      " [2.6 4.0 1.2 'Iris-versicolor']\n",
      " [2.3 3.3 1.0 'Iris-versicolor']\n",
      " [2.7 4.2 1.3 'Iris-versicolor']\n",
      " [3.0 4.2 1.2 'Iris-versicolor']\n",
      " [2.9 4.2 1.3 'Iris-versicolor']\n",
      " [2.9 4.3 1.3 'Iris-versicolor']\n",
      " [2.5 3.0 1.1 'Iris-versicolor']\n",
      " [2.8 4.1 1.3 'Iris-versicolor']\n",
      " [3.3 6.0 2.5 'Iris-virginica']\n",
      " [2.7 5.1 1.9 'Iris-virginica']\n",
      " [3.0 5.9 2.1 'Iris-virginica']\n",
      " [2.9 5.6 1.8 'Iris-virginica']\n",
      " [3.0 5.8 2.2 'Iris-virginica']\n",
      " [3.0 6.6 2.1 'Iris-virginica']\n",
      " [2.5 4.5 1.7 'Iris-virginica']\n",
      " [2.9 6.3 1.8 'Iris-virginica']\n",
      " [2.5 5.8 1.8 'Iris-virginica']\n",
      " [3.6 6.1 2.5 'Iris-virginica']\n",
      " [3.2 5.1 2.0 'Iris-virginica']\n",
      " [2.7 5.3 1.9 'Iris-virginica']\n",
      " [3.0 5.5 2.1 'Iris-virginica']\n",
      " [2.5 5.0 2.0 'Iris-virginica']\n",
      " [2.8 5.1 2.4 'Iris-virginica']\n",
      " [3.2 5.3 2.3 'Iris-virginica']\n",
      " [3.0 5.5 1.8 'Iris-virginica']\n",
      " [3.8 6.7 2.2 'Iris-virginica']\n",
      " [2.6 6.9 2.3 'Iris-virginica']\n",
      " [2.2 5.0 1.5 'Iris-virginica']\n",
      " [3.2 5.7 2.3 'Iris-virginica']\n",
      " [2.8 4.9 2.0 'Iris-virginica']\n",
      " [2.8 6.7 2.0 'Iris-virginica']\n",
      " [2.7 4.9 1.8 'Iris-virginica']\n",
      " [3.3 5.7 2.1 'Iris-virginica']\n",
      " [3.2 6.0 1.8 'Iris-virginica']\n",
      " [2.8 4.8 1.8 'Iris-virginica']\n",
      " [3.0 4.9 1.8 'Iris-virginica']\n",
      " [2.8 5.6 2.1 'Iris-virginica']\n",
      " [3.0 5.8 1.6 'Iris-virginica']\n",
      " [2.8 6.1 1.9 'Iris-virginica']\n",
      " [3.8 6.4 2.0 'Iris-virginica']\n",
      " [2.8 5.6 2.2 'Iris-virginica']\n",
      " [2.8 5.1 1.5 'Iris-virginica']\n",
      " [2.6 5.6 1.4 'Iris-virginica']\n",
      " [3.0 6.1 2.3 'Iris-virginica']\n",
      " [3.4 5.6 2.4 'Iris-virginica']\n",
      " [3.1 5.5 1.8 'Iris-virginica']\n",
      " [3.0 4.8 1.8 'Iris-virginica']\n",
      " [3.1 5.4 2.1 'Iris-virginica']\n",
      " [3.1 5.6 2.4 'Iris-virginica']\n",
      " [3.1 5.1 2.3 'Iris-virginica']\n",
      " [2.7 5.1 1.9 'Iris-virginica']\n",
      " [3.2 5.9 2.3 'Iris-virginica']\n",
      " [3.3 5.7 2.5 'Iris-virginica']\n",
      " [3.0 5.2 2.3 'Iris-virginica']\n",
      " [2.5 5.0 1.9 'Iris-virginica']\n",
      " [3.0 5.2 2.0 'Iris-virginica']\n",
      " [3.4 5.4 2.3 'Iris-virginica']\n",
      " [3.0 5.1 1.8 'Iris-virginica']]\n"
     ]
    }
   ],
   "source": [
    "# 8\n",
    "import pandas as pd\n",
    "data = pd.read_csv('iris.csv')\n",
    "print(\"Original data:\")\n",
    "print(data.head())\n",
    "x = data.iloc[:, [1,2,3,4]].values\n",
    "print(\"Dataframe :\\n\",x)"
   ]
  }
 ],
 "metadata": {
  "kernelspec": {
   "display_name": "Python 3",
   "language": "python",
   "name": "python3"
  },
  "language_info": {
   "codemirror_mode": {
    "name": "ipython",
    "version": 3
   },
   "file_extension": ".py",
   "mimetype": "text/x-python",
   "name": "python",
   "nbconvert_exporter": "python",
   "pygments_lexer": "ipython3",
   "version": "3.12.8"
  }
 },
 "nbformat": 4,
 "nbformat_minor": 2
}
