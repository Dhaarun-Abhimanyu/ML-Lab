{
 "cells": [
  {
   "cell_type": "code",
   "execution_count": 2,
   "metadata": {},
   "outputs": [
    {
     "name": "stdout",
     "output_type": "stream",
     "text": [
      "Unique values: [1 2 3 4 5] \n",
      "Counts: [1 2 1 3 1]\n"
     ]
    }
   ],
   "source": [
    "# 27\n",
    "import numpy as np\n",
    "arr = np.array([1,2,2,3,4,4,4,5])\n",
    "unique,counts = np.unique(arr,return_counts=True)\n",
    "print(\"Unique values:\",unique,\"\\nCounts:\",counts)"
   ]
  },
  {
   "cell_type": "code",
   "execution_count": 5,
   "metadata": {},
   "outputs": [
    {
     "name": "stdout",
     "output_type": "stream",
     "text": [
      "[[0 1 2]\n",
      " [3 4 5]\n",
      " [6 7 8]]\n"
     ]
    }
   ],
   "source": [
    "# 28\n",
    "import numpy as np\n",
    "arr = np.arange(9).reshape(3,3)\n",
    "print(arr)"
   ]
  },
  {
   "cell_type": "code",
   "execution_count": 9,
   "metadata": {},
   "outputs": [
    {
     "name": "stdout",
     "output_type": "stream",
     "text": [
      "[ 1.          2.71828183  7.3890561  20.08553692 54.59815003]\n"
     ]
    }
   ],
   "source": [
    "# 29\n",
    "import numpy as np\n",
    "arr = np.arange(5)\n",
    "exp = np.exp(arr)\n",
    "print(exp)"
   ]
  },
  {
   "cell_type": "code",
   "execution_count": 11,
   "metadata": {},
   "outputs": [
    {
     "name": "stdout",
     "output_type": "stream",
     "text": [
      "[[3 4 5]\n",
      " [0 1 2]\n",
      " [6 7 8]]\n"
     ]
    }
   ],
   "source": [
    "# 30\n",
    "import numpy as np\n",
    "matrix = np.arange(9).reshape(3,3)\n",
    "matrix[[0, 1]] = matrix[[1, 0]]\n",
    "print(matrix)"
   ]
  },
  {
   "cell_type": "code",
   "execution_count": 15,
   "metadata": {},
   "outputs": [
    {
     "name": "stdout",
     "output_type": "stream",
     "text": [
      "[[0. 1. 0.]\n",
      " [1. 0. 1.]\n",
      " [1. 0. 1.]]\n"
     ]
    }
   ],
   "source": [
    "# 31\n",
    "import numpy as np\n",
    "matrix = np.random.random((3,3))\n",
    "matrix[matrix > 0.5] = 1\n",
    "matrix[matrix <= 0.5] = 0\n",
    "print(matrix)"
   ]
  },
  {
   "cell_type": "code",
   "execution_count": 36,
   "metadata": {},
   "outputs": [
    {
     "name": "stdout",
     "output_type": "stream",
     "text": [
      "[5 6]\n"
     ]
    }
   ],
   "source": [
    "# 32\n",
    "import numpy as np\n",
    "arr = np.array([3,4,2,5,6,1])\n",
    "print(arr[np.argsort(arr)[-2:]])\n"
   ]
  },
  {
   "cell_type": "code",
   "execution_count": 42,
   "metadata": {},
   "outputs": [
    {
     "name": "stdout",
     "output_type": "stream",
     "text": [
      "[0.64353345 0.34559176 0.44417395]\n"
     ]
    }
   ],
   "source": [
    "# 33\n",
    "import numpy as np\n",
    "matrix = np.random.random((4,3))\n",
    "col_means = np.mean(matrix, axis=0)\n",
    "print(col_means)"
   ]
  },
  {
   "cell_type": "code",
   "execution_count": 45,
   "metadata": {},
   "outputs": [
    {
     "name": "stdout",
     "output_type": "stream",
     "text": [
      "[[-1.22474487 -1.22474487 -1.22474487]\n",
      " [ 0.          0.          0.        ]\n",
      " [ 1.22474487  1.22474487  1.22474487]]\n"
     ]
    }
   ],
   "source": [
    "# 34\n",
    "import numpy as np\n",
    "matrix = np.arange(9).reshape(3,3)\n",
    "norm = (matrix - np.mean(matrix, axis=0)) / np.std(matrix, axis=0)\n",
    "print(norm)"
   ]
  },
  {
   "cell_type": "code",
   "execution_count": 46,
   "metadata": {},
   "outputs": [
    {
     "name": "stdout",
     "output_type": "stream",
     "text": [
      "[ 1  2  3  4  5  6  7  8  9 10]\n"
     ]
    }
   ],
   "source": [
    "# 35\n",
    "import numpy as np\n",
    "ar1 = np.array([1,2,3,4,5])\n",
    "ar2 = np.array([6,7,8,9,10])\n",
    "conc = np.concatenate((ar1,ar2))\n",
    "print(conc)\n"
   ]
  },
  {
   "cell_type": "code",
   "execution_count": 55,
   "metadata": {},
   "outputs": [
    {
     "name": "stdout",
     "output_type": "stream",
     "text": [
      "[[0.40073558 0.89324614 0.98620775]\n",
      " [0.00198324 0.05411505 0.96479099]\n",
      " [0.02839605 0.44184584 0.6326993 ]]\n"
     ]
    }
   ],
   "source": [
    "# 36\n",
    "import numpy as np\n",
    "arr = np.random.random((3,3))\n",
    "print(np.sort(arr,axis=1))"
   ]
  },
  {
   "cell_type": "code",
   "execution_count": 56,
   "metadata": {},
   "outputs": [
    {
     "name": "stdout",
     "output_type": "stream",
     "text": [
      "1.0\n"
     ]
    }
   ],
   "source": [
    "# 37\n",
    "import numpy as np\n",
    "arr1 = np.array([1, 2, 3, 4])\n",
    "arr2 = np.array([2, 3, 4, 5])\n",
    "mse = np.mean((arr1 - arr2) ** 2)\n",
    "print(mse)"
   ]
  },
  {
   "cell_type": "code",
   "execution_count": 58,
   "metadata": {},
   "outputs": [
    {
     "name": "stdout",
     "output_type": "stream",
     "text": [
      "[1 0 2 0 3 0]\n"
     ]
    }
   ],
   "source": [
    "# 38\n",
    "import numpy as np\n",
    "arr = np.array([1,-1,2,-2,3,-3])\n",
    "arr[arr<0] = 0\n",
    "print(arr)"
   ]
  },
  {
   "cell_type": "code",
   "execution_count": 59,
   "metadata": {},
   "outputs": [
    {
     "name": "stdout",
     "output_type": "stream",
     "text": [
      "5th Percentile: 0.10303829491340295\n",
      "95th Percentile: 0.9141094225220091\n"
     ]
    }
   ],
   "source": [
    "# 39\n",
    "import numpy as np\n",
    "arr = np.random.random(10)\n",
    "percentile_5th = np.percentile(arr, 5)\n",
    "percentile_95th = np.percentile(arr, 95)\n",
    "print(\"5th Percentile:\", percentile_5th)\n",
    "print(\"95th Percentile:\", percentile_95th)"
   ]
  },
  {
   "cell_type": "code",
   "execution_count": 60,
   "metadata": {},
   "outputs": [
    {
     "name": "stdout",
     "output_type": "stream",
     "text": [
      "0.11331945848808701\n"
     ]
    }
   ],
   "source": [
    "# 40\n",
    "import numpy as np\n",
    "matrix = np.random.random((2, 2))\n",
    "determinant = np.linalg.det(matrix)\n",
    "print(determinant)"
   ]
  },
  {
   "cell_type": "code",
   "execution_count": 61,
   "metadata": {},
   "outputs": [
    {
     "name": "stdout",
     "output_type": "stream",
     "text": [
      "2\n"
     ]
    }
   ],
   "source": [
    "import numpy as np\n",
    "arr = np.array([1,2,3,4,5])\n",
    "count = np.sum(arr > np.mean(arr))\n",
    "print(count)"
   ]
  },
  {
   "cell_type": "code",
   "execution_count": 62,
   "metadata": {},
   "outputs": [
    {
     "name": "stdout",
     "output_type": "stream",
     "text": [
      "[2. 3. 4. 5.]\n"
     ]
    }
   ],
   "source": [
    "# 42\n",
    "import numpy as np\n",
    "arr = np.array([4, 9, 16, 25])\n",
    "sqrt_arr = np.sqrt(arr)\n",
    "print(sqrt_arr)"
   ]
  },
  {
   "cell_type": "code",
   "execution_count": 70,
   "metadata": {},
   "outputs": [
    {
     "name": "stdout",
     "output_type": "stream",
     "text": [
      "[[ 15  18  21]\n",
      " [ 42  54  66]\n",
      " [ 69  90 111]]\n"
     ]
    }
   ],
   "source": [
    "# 43\n",
    "import numpy as np\n",
    "matrix = np.arange(9).reshape((3,3))\n",
    "matrix_sqrt = np.linalg.matrix_power(matrix, 2)\n",
    "print(matrix_sqrt)"
   ]
  },
  {
   "cell_type": "code",
   "execution_count": 71,
   "metadata": {},
   "outputs": [
    {
     "name": "stdout",
     "output_type": "stream",
     "text": [
      "[1. 2. 3. 4.]\n"
     ]
    }
   ],
   "source": [
    "# 44\n",
    "import numpy as np\n",
    "arr = np.array([1, 2, 3, 4], dtype=int)\n",
    "float_arr = arr.astype(float)\n",
    "print(float_arr)"
   ]
  },
  {
   "cell_type": "code",
   "execution_count": 75,
   "metadata": {},
   "outputs": [
    {
     "name": "stdout",
     "output_type": "stream",
     "text": [
      "[1 1 2 2 3 3]\n"
     ]
    }
   ],
   "source": [
    "import numpy as np\n",
    "arr = np.array([1,-1,2,-2,3,-3])\n",
    "arr[arr<0] = -arr[arr<0]\n",
    "print(arr)"
   ]
  },
  {
   "cell_type": "code",
   "execution_count": 76,
   "metadata": {},
   "outputs": [
    {
     "name": "stdout",
     "output_type": "stream",
     "text": [
      "(array([1, 3, 4], dtype=int64),)\n"
     ]
    }
   ],
   "source": [
    "# 46\n",
    "import numpy as np\n",
    "arr1 = np.array([1, 2, 3, 4, 5])\n",
    "arr2 = np.array([3, 2, 8, 4, 5])\n",
    "matching_indices = np.where(arr1 == arr2)\n",
    "print(matching_indices)"
   ]
  },
  {
   "cell_type": "code",
   "execution_count": 77,
   "metadata": {},
   "outputs": [
    {
     "name": "stdout",
     "output_type": "stream",
     "text": [
      "[ 1  3  6 10 15]\n"
     ]
    }
   ],
   "source": [
    "# 47\n",
    "import numpy as np\n",
    "arr = np.array([1, 2, 3, 4, 5])\n",
    "cumulative_sum = np.cumsum(arr)\n",
    "print(cumulative_sum)"
   ]
  },
  {
   "cell_type": "code",
   "execution_count": 78,
   "metadata": {},
   "outputs": [
    {
     "name": "stdout",
     "output_type": "stream",
     "text": [
      "[[-3.79494815  2.52884453]\n",
      " [ 5.94299263 -2.31188427]]\n"
     ]
    }
   ],
   "source": [
    "# 48\n",
    "import numpy as np\n",
    "matrix = np.random.random((2, 2))\n",
    "inverse_matrix = np.linalg.inv(matrix)\n",
    "print(inverse_matrix)"
   ]
  },
  {
   "cell_type": "code",
   "execution_count": 79,
   "metadata": {},
   "outputs": [
    {
     "name": "stdout",
     "output_type": "stream",
     "text": [
      "5\n"
     ]
    }
   ],
   "source": [
    "import numpy as np\n",
    "arr = np.array([0,1,0,2,0,3,4,5]).reshape(2,4)\n",
    "count = np.sum(arr != 0)\n",
    "print(count)"
   ]
  },
  {
   "cell_type": "code",
   "execution_count": 80,
   "metadata": {},
   "outputs": [
    {
     "name": "stdout",
     "output_type": "stream",
     "text": [
      "[[1. 0. 3.]\n",
      " [4. 5. 0.]\n",
      " [7. 8. 9.]]\n"
     ]
    }
   ],
   "source": [
    "import numpy as np\n",
    "matrix = np.array([[1, np.nan, 3], [4, 5, np.nan], [7, 8, 9]])\n",
    "matrix[np.isnan(matrix)] = 0\n",
    "print(matrix)"
   ]
  },
  {
   "cell_type": "code",
   "execution_count": 81,
   "metadata": {},
   "outputs": [
    {
     "name": "stdout",
     "output_type": "stream",
     "text": [
      "0.9999999999999999\n"
     ]
    }
   ],
   "source": [
    "# 51\n",
    "import numpy as np\n",
    "arr1 = np.array([1, 2, 3, 4, 5])\n",
    "arr2 = np.array([3, 4, 5, 6, 7])\n",
    "correlation_coefficient = np.corrcoef(arr1, arr2)[0, 1]\n",
    "print(correlation_coefficient)"
   ]
  },
  {
   "cell_type": "code",
   "execution_count": 82,
   "metadata": {},
   "outputs": [
    {
     "name": "stdout",
     "output_type": "stream",
     "text": [
      "[1 2 3 4 5]\n"
     ]
    }
   ],
   "source": [
    "# 52\n",
    "import numpy as np\n",
    "arr = np.array([1, 2, 3, 2, 4, 5, 1])\n",
    "unique_arr = np.unique(arr)\n",
    "print(unique_arr)"
   ]
  },
  {
   "cell_type": "code",
   "execution_count": 83,
   "metadata": {},
   "outputs": [
    {
     "name": "stdout",
     "output_type": "stream",
     "text": [
      "[ 4 10 18]\n"
     ]
    }
   ],
   "source": [
    "# 53\n",
    "import numpy as np\n",
    "arr1 = np.array([1, 2, 3])\n",
    "arr2 = np.array([4, 5, 6])\n",
    "elementwise_product = np.multiply(arr1, arr2)\n",
    "print(elementwise_product)"
   ]
  },
  {
   "cell_type": "code",
   "execution_count": 84,
   "metadata": {},
   "outputs": [
    {
     "name": "stdout",
     "output_type": "stream",
     "text": [
      "[0.13842234 0.22798778 0.14121476]\n"
     ]
    }
   ],
   "source": [
    "# 54\n",
    "import numpy as np\n",
    "matrix = np.random.random((4, 3))\n",
    "column_stddev = np.std(matrix, axis=0)\n",
    "print(column_stddev)"
   ]
  },
  {
   "cell_type": "code",
   "execution_count": 85,
   "metadata": {},
   "outputs": [
    {
     "name": "stdout",
     "output_type": "stream",
     "text": [
      "[[0.7        0.7        0.20596455 0.39426498]\n",
      " [0.44617637 0.7        0.01908151 0.6449416 ]\n",
      " [0.7        0.3407672  0.47981985 0.7       ]]\n"
     ]
    }
   ],
   "source": [
    "# 55\n",
    "import numpy as np\n",
    "matrix = np.random.random((3, 4))\n",
    "threshold = 0.7\n",
    "matrix[matrix > threshold] = threshold\n",
    "print(matrix)"
   ]
  },
  {
   "cell_type": "code",
   "execution_count": 105,
   "metadata": {},
   "outputs": [
    {
     "name": "stdout",
     "output_type": "stream",
     "text": [
      "[[ 0.80201447  0.83766679  0.66526897  0.85334244  0.73468442]\n",
      " [ 0.09781883  0.24540954  0.91375759  0.92025348  0.35397501]\n",
      " [ 0.61566071  0.22768804  0.26216898  0.70968794  0.28854078]\n",
      " [-1.          0.07158393  0.40906839  0.46269451  0.8932246 ]\n",
      " [ 0.66278063  0.47601365  0.11586269  0.86791705  0.88555241]]\n"
     ]
    }
   ],
   "source": [
    "# 56\n",
    "import numpy as np\n",
    "matrix = np.random.random((5,5))\n",
    "matrix[np.unravel_index(np.argmax(matrix), matrix.shape)] = -1\n",
    "print(matrix)"
   ]
  },
  {
   "cell_type": "code",
   "execution_count": 106,
   "metadata": {},
   "outputs": [
    {
     "name": "stdout",
     "output_type": "stream",
     "text": [
      "[  0.          20.          37.77777778 100.        ]\n"
     ]
    }
   ],
   "source": [
    "# 57\n",
    "import numpy as np\n",
    "fahrenheit_temps = np.array([32, 68, 100, 212])\n",
    "celsius_temps = (fahrenheit_temps - 32) * 5/9\n",
    "print(celsius_temps)"
   ]
  },
  {
   "cell_type": "code",
   "execution_count": 107,
   "metadata": {},
   "outputs": [
    {
     "name": "stdout",
     "output_type": "stream",
     "text": [
      "[[ 4  5  6]\n",
      " [ 8 10 12]\n",
      " [12 15 18]]\n"
     ]
    }
   ],
   "source": [
    "# 58\n",
    "import numpy as np\n",
    "arr1 = np.array([1, 2, 3])\n",
    "arr2 = np.array([4, 5, 6])\n",
    "outer_product = np.outer(arr1, arr2)\n",
    "print(outer_product)"
   ]
  },
  {
   "cell_type": "code",
   "execution_count": 108,
   "metadata": {},
   "outputs": [
    {
     "name": "stdout",
     "output_type": "stream",
     "text": [
      "[0.         0.11111111 0.22222222 0.33333333 0.44444444 0.55555556\n",
      " 0.66666667 0.77777778 0.88888889 1.        ]\n"
     ]
    }
   ],
   "source": [
    "# 59\n",
    "import numpy as np\n",
    "equidistant_arr = np.linspace(0, 1, 10)\n",
    "print(equidistant_arr)"
   ]
  },
  {
   "cell_type": "code",
   "execution_count": 109,
   "metadata": {},
   "outputs": [
    {
     "name": "stdout",
     "output_type": "stream",
     "text": [
      "[-3  6 -3]\n"
     ]
    }
   ],
   "source": [
    "# 60\n",
    "import numpy as np\n",
    "arr1 = np.array([1, 2, 3])\n",
    "arr2 = np.array([4, 5, 6])\n",
    "cross_product = np.cross(arr1, arr2)\n",
    "print(cross_product)"
   ]
  },
  {
   "cell_type": "code",
   "execution_count": 110,
   "metadata": {},
   "outputs": [
    {
     "name": "stdout",
     "output_type": "stream",
     "text": [
      "[0.26721296 0.45294321 0.5958965 ]\n"
     ]
    }
   ],
   "source": [
    "# 61\n",
    "import numpy as np\n",
    "matrix = np.random.random((3, 4))\n",
    "percentiles_axis1 = np.percentile(matrix, 75, axis=1)\n",
    "print(percentiles_axis1)"
   ]
  },
  {
   "cell_type": "code",
   "execution_count": 111,
   "metadata": {},
   "outputs": [
    {
     "name": "stdout",
     "output_type": "stream",
     "text": [
      "[0 1 2 3 4 0]\n"
     ]
    }
   ],
   "source": [
    "# 62\n",
    "import numpy as np\n",
    "arr = np.array([1, 2, 3, 4])\n",
    "arr_with_border = np.pad(arr, (1, 1), mode='constant', constant_values=0)\n",
    "print(arr_with_border)"
   ]
  },
  {
   "cell_type": "code",
   "execution_count": 112,
   "metadata": {},
   "outputs": [
    {
     "name": "stdout",
     "output_type": "stream",
     "text": [
      "Histogram: [2 3 4]\n",
      "Bin edges: [1 2 3 4]\n"
     ]
    }
   ],
   "source": [
    "# 63\n",
    "import numpy as np\n",
    "arr = np.array([1, 1, 2, 2, 2, 3, 3, 3, 3])\n",
    "hist, bins = np.histogram(arr, bins=[1, 2, 3, 4])\n",
    "print(\"Histogram:\", hist)\n",
    "print(\"Bin edges:\", bins)"
   ]
  },
  {
   "cell_type": "code",
   "execution_count": 115,
   "metadata": {},
   "outputs": [
    {
     "name": "stdout",
     "output_type": "stream",
     "text": [
      "[[0.73175479 0.60048772 0.31369984 0.0744435 ]\n",
      " [0.85471686 0.30153068 0.3531581  0.23198642]\n",
      " [0.50209603 0.21646834 0.73708225 0.39717854]]\n"
     ]
    }
   ],
   "source": [
    "# 64\n",
    "import numpy as np\n",
    "arr = np.random.random((3,3))\n",
    "print(matrix / np.linalg.norm(matrix,axis=1,keepdims=True))"
   ]
  },
  {
   "cell_type": "code",
   "execution_count": 116,
   "metadata": {},
   "outputs": [
    {
     "name": "stdout",
     "output_type": "stream",
     "text": [
      "[[0.5417364  0.56570206 0.37750811 0.03026486]\n",
      " [0.66790723 0.86210197 0.38158099 0.9371422 ]\n",
      " [0.69848139 0.8992444  0.32770581 0.65236056]]\n"
     ]
    }
   ],
   "source": [
    "# 65\n",
    "import numpy as np\n",
    "matrix = np.random.random((3, 4))\n",
    "sorted_matrix_by_column2 = matrix[matrix[:, 1].argsort()]\n",
    "print(sorted_matrix_by_column2)"
   ]
  },
  {
   "cell_type": "code",
   "execution_count": 117,
   "metadata": {},
   "outputs": [
    {
     "name": "stdout",
     "output_type": "stream",
     "text": [
      "-0.5335993010697533\n"
     ]
    }
   ],
   "source": [
    "# 66\n",
    "import numpy as np\n",
    "matrix = np.random.random((3, 3))\n",
    "determinant = np.linalg.det(matrix)\n",
    "print(determinant)"
   ]
  },
  {
   "cell_type": "code",
   "execution_count": 118,
   "metadata": {},
   "outputs": [
    {
     "name": "stdout",
     "output_type": "stream",
     "text": [
      "[ 7.3890561  20.08553692 54.59815003]\n"
     ]
    }
   ],
   "source": [
    "# 67\n",
    "import numpy as np\n",
    "arr = np.array([2, 3, 4])\n",
    "exponentiated_arr = np.exp(arr)\n",
    "print(exponentiated_arr)"
   ]
  },
  {
   "cell_type": "code",
   "execution_count": 119,
   "metadata": {},
   "outputs": [
    {
     "name": "stdout",
     "output_type": "stream",
     "text": [
      "1.991204004469564\n"
     ]
    }
   ],
   "source": [
    "# 68\n",
    "import numpy as np\n",
    "matrix = np.random.random((3, 4))\n",
    "frobenius_norm = np.linalg.norm(matrix)\n",
    "print(frobenius_norm)"
   ]
  },
  {
   "cell_type": "code",
   "execution_count": 121,
   "metadata": {},
   "outputs": [
    {
     "name": "stdout",
     "output_type": "stream",
     "text": [
      "[[0 1 2]\n",
      " [3 4 5]\n",
      " [6 7 0]]\n"
     ]
    }
   ],
   "source": [
    "# 69\n",
    "import numpy as np\n",
    "matrix = np.arange(9).reshape((3,3))\n",
    "matrix[matrix==np.max(matrix)] = np.min(matrix)\n",
    "print(matrix)"
   ]
  },
  {
   "cell_type": "code",
   "execution_count": 122,
   "metadata": {},
   "outputs": [
    {
     "name": "stdout",
     "output_type": "stream",
     "text": [
      "[[1.18376939 0.76627268 1.40816686 0.80121797 1.07908267]\n",
      " [1.19868308 0.67887149 1.99353557 0.8678619  0.78902717]\n",
      " [0.60859807 0.39123644 0.66740451 0.45089223 0.63643193]]\n"
     ]
    }
   ],
   "source": [
    "# 70\n",
    "import numpy as np\n",
    "matrix1 = np.random.random((3, 4))\n",
    "matrix2 = np.random.random((4, 5))\n",
    "matrix_multiplication = np.dot(matrix1, matrix2)\n",
    "print(matrix_multiplication)"
   ]
  },
  {
   "cell_type": "code",
   "execution_count": 126,
   "metadata": {},
   "outputs": [
    {
     "name": "stdout",
     "output_type": "stream",
     "text": [
      "[ 5  0  0  0 25]\n"
     ]
    }
   ],
   "source": [
    "# 71\n",
    "import numpy as np\n",
    "arr = np.array([5, 15, 12, 18, 25])\n",
    "arr[(10 <= arr) & (arr <= 20)] = 0\n",
    "print(arr)"
   ]
  },
  {
   "cell_type": "code",
   "execution_count": 127,
   "metadata": {},
   "outputs": [
    {
     "name": "stdout",
     "output_type": "stream",
     "text": [
      "[0.88137359 1.44363548 1.81844646 2.09471255]\n"
     ]
    }
   ],
   "source": [
    "# 72\n",
    "import numpy as np\n",
    "arr = np.array([1, 2, 3, 4])\n",
    "inverse_sineh_arr = np.arcsinh(arr)\n",
    "print(inverse_sineh_arr)"
   ]
  },
  {
   "cell_type": "code",
   "execution_count": 128,
   "metadata": {},
   "outputs": [
    {
     "name": "stdout",
     "output_type": "stream",
     "text": [
      "[3 4 6 8]\n"
     ]
    }
   ],
   "source": [
    "# 73\n",
    "import numpy as np\n",
    "arr1 = np.array([1, 2])\n",
    "arr2 = np.array([3, 4])\n",
    "kronecker_product = np.kron(arr1, arr2)\n",
    "print(kronecker_product)"
   ]
  },
  {
   "cell_type": "code",
   "execution_count": 129,
   "metadata": {},
   "outputs": [
    {
     "name": "stdout",
     "output_type": "stream",
     "text": [
      "1.2\n"
     ]
    }
   ],
   "source": [
    "# 74\n",
    "import numpy as np\n",
    "arr = np.array([1, 2, 3, 4, 5])\n",
    "mean_absolute_deviation = np.mean(np.abs(arr - np.mean(arr)))\n",
    "print(mean_absolute_deviation)"
   ]
  },
  {
   "cell_type": "code",
   "execution_count": 130,
   "metadata": {},
   "outputs": [
    {
     "name": "stdout",
     "output_type": "stream",
     "text": [
      "[[0.7695523  0.         0.        ]\n",
      " [0.74312284 0.32016405 0.        ]\n",
      " [0.35352923 0.87702507 0.91055328]]\n"
     ]
    }
   ],
   "source": [
    "# 75\n",
    "import numpy as np\n",
    "matrix = np.random.random((3, 3))\n",
    "matrix[np.triu_indices(3, 1)] = 0\n",
    "print(matrix)"
   ]
  },
  {
   "cell_type": "code",
   "execution_count": 131,
   "metadata": {},
   "outputs": [
    {
     "name": "stdout",
     "output_type": "stream",
     "text": [
      "Unique values: [1 2 3 4]\n",
      "Counts: [1 2 3 1]\n"
     ]
    }
   ],
   "source": [
    "# 76\n",
    "import numpy as np\n",
    "arr = np.array([2, 2, 1, 3, 3, 3, 4])\n",
    "unique_values, counts = np.unique(arr, return_counts=True)\n",
    "print(\"Unique values:\", unique_values)\n",
    "print(\"Counts:\", counts)"
   ]
  },
  {
   "cell_type": "code",
   "execution_count": 132,
   "metadata": {},
   "outputs": [
    {
     "name": "stdout",
     "output_type": "stream",
     "text": [
      "[[0.7533718  0.3947452  0.10789098 0.26189694]\n",
      " [0.3395801  0.18458904 0.00458046 0.0361528 ]\n",
      " [0.12815216 0.0774038  0.00394411 0.03518423]]\n"
     ]
    }
   ],
   "source": [
    "# 77\n",
    "import numpy as np\n",
    "matrix = np.random.random((3, 4))\n",
    "cumulative_product_axis0 = np.cumprod(matrix, axis=0)\n",
    "print(cumulative_product_axis0)"
   ]
  },
  {
   "cell_type": "code",
   "execution_count": 133,
   "metadata": {},
   "outputs": [
    {
     "name": "stdout",
     "output_type": "stream",
     "text": [
      "[1. 3. 4. 5.]\n"
     ]
    }
   ],
   "source": [
    "# 78\n",
    "import numpy as np\n",
    "arr = np.array([1.2, 2.7, 3.5, 4.9])\n",
    "rounded_arr = np.round(arr)\n",
    "print(rounded_arr)"
   ]
  },
  {
   "cell_type": "code",
   "execution_count": 134,
   "metadata": {},
   "outputs": [
    {
     "name": "stdout",
     "output_type": "stream",
     "text": [
      "[1 2 3 4]\n"
     ]
    }
   ],
   "source": [
    "# 79\n",
    "import numpy as np\n",
    "arr = np.array([1, 2, 3])\n",
    "new_element = 4\n",
    "arr = np.append(arr, new_element)\n",
    "print(arr)"
   ]
  },
  {
   "cell_type": "code",
   "execution_count": 135,
   "metadata": {},
   "outputs": [
    {
     "name": "stdout",
     "output_type": "stream",
     "text": [
      "[1 2 7 9 3]\n"
     ]
    }
   ],
   "source": [
    "# 80\n",
    "import numpy as np\n",
    "arr1 = np.array([3, 7, 1, 10, 4])\n",
    "arr2 = np.array([2, 5, 8, 1, 7])\n",
    "absolute_difference = np.abs(arr1 - arr2)\n",
    "print(absolute_difference)"
   ]
  },
  {
   "cell_type": "code",
   "execution_count": 144,
   "metadata": {},
   "outputs": [
    {
     "name": "stdout",
     "output_type": "stream",
     "text": [
      "[[-1.          0.31718264  0.26183487  0.45964582]\n",
      " [ 0.71388781 -1.          0.50041282  0.36451952]\n",
      " [ 0.45424362 -1.          0.40847443  0.40548893]]\n"
     ]
    }
   ],
   "source": [
    "# 81\n",
    "import numpy as np\n",
    "matrix = np.random.random((3, 4))\n",
    "max_values_indices = np.argmax(matrix, axis=1)\n",
    "matrix[np.arange(matrix.shape[0]), max_values_indices] = -1\n",
    "print(matrix)"
   ]
  },
  {
   "cell_type": "code",
   "execution_count": 145,
   "metadata": {},
   "outputs": [
    {
     "name": "stdout",
     "output_type": "stream",
     "text": [
      "[[0.02207185 0.39583226 0.15549192 0.45120734]\n",
      " [0.6025716  0.18080478 0.45747122 0.4352778 ]\n",
      " [0.37535655 0.42336296 0.38703685 0.11351486]]\n"
     ]
    }
   ],
   "source": [
    "# 82\n",
    "import numpy as np\n",
    "matrix = np.random.random((3, 4))\n",
    "normalized_columns = matrix / np.sum(matrix, axis=0, keepdims=True)\n",
    "print(normalized_columns)"
   ]
  },
  {
   "cell_type": "code",
   "execution_count": 150,
   "metadata": {},
   "outputs": [
    {
     "name": "stdout",
     "output_type": "stream",
     "text": [
      "[3 1]\n"
     ]
    }
   ],
   "source": [
    "# 83\n",
    "import numpy as np\n",
    "arr = np.array([10, 5, 8, 1, 7])\n",
    "top_indices = np.argsort(arr)[:2]  # Replace 2 with desired top N\n",
    "print(top_indices)"
   ]
  },
  {
   "cell_type": "code",
   "execution_count": 151,
   "metadata": {},
   "outputs": [
    {
     "name": "stdout",
     "output_type": "stream",
     "text": [
      "['1' '2' '3' '4']\n"
     ]
    }
   ],
   "source": [
    "# 84\n",
    "import numpy as np\n",
    "arr = np.array([1, 2, 3, 4])\n",
    "string_arr = arr.astype(str)\n",
    "print(string_arr)"
   ]
  },
  {
   "cell_type": "code",
   "execution_count": 153,
   "metadata": {},
   "outputs": [
    {
     "name": "stdout",
     "output_type": "stream",
     "text": [
      "[ 20.  40.  70. 100.  70.]\n"
     ]
    }
   ],
   "source": [
    "# 85\n",
    "import numpy as np\n",
    "from scipy.stats import percentileofscore\n",
    "arr = np.array([1, 2, 3, 4, 3])\n",
    "percentile_rank = np.array([percentileofscore(arr, value) for value in arr])\n",
    "print(percentile_rank)"
   ]
  },
  {
   "cell_type": "code",
   "execution_count": 154,
   "metadata": {},
   "outputs": [
    {
     "name": "stdout",
     "output_type": "stream",
     "text": [
      "[5 2 4 3 1]\n"
     ]
    }
   ],
   "source": [
    "# 86\n",
    "import numpy as np\n",
    "arr = np.array([1, 2, 3, 4, 5])\n",
    "np.random.shuffle(arr)\n",
    "print(arr)"
   ]
  },
  {
   "cell_type": "code",
   "execution_count": 155,
   "metadata": {},
   "outputs": [
    {
     "name": "stdout",
     "output_type": "stream",
     "text": [
      "True\n"
     ]
    }
   ],
   "source": [
    "# 87\n",
    "import numpy as np\n",
    "arr = np.array([1, 2, 3, 4, 5])\n",
    "all_nonzero = np.all(arr != 0)\n",
    "print(all_nonzero)"
   ]
  },
  {
   "cell_type": "code",
   "execution_count": 156,
   "metadata": {},
   "outputs": [
    {
     "name": "stdout",
     "output_type": "stream",
     "text": [
      "[0 3 1]\n"
     ]
    }
   ],
   "source": [
    "# 88\n",
    "import numpy as np\n",
    "matrix = np.random.random((3, 4))\n",
    "max_indices_per_row = np.argmax(matrix, axis=1)\n",
    "print(max_indices_per_row)"
   ]
  },
  {
   "cell_type": "code",
   "execution_count": 157,
   "metadata": {},
   "outputs": [
    {
     "name": "stdout",
     "output_type": "stream",
     "text": [
      "[[1.         5.28571429 3.        ]\n",
      " [4.         5.         5.28571429]\n",
      " [7.         8.         9.        ]]\n"
     ]
    }
   ],
   "source": [
    "import numpy as np\n",
    "matrix = np.array([[1, np.nan, 3], [4, 5, np.nan], [7, 8, 9]])\n",
    "nan_mean = np.nanmean(matrix)\n",
    "matrix[np.isnan(matrix)] = nan_mean\n",
    "print(matrix)"
   ]
  },
  {
   "cell_type": "code",
   "execution_count": 158,
   "metadata": {},
   "outputs": [
    {
     "name": "stdout",
     "output_type": "stream",
     "text": [
      "[1.5 5.  8. ]\n"
     ]
    }
   ],
   "source": [
    "# 90\n",
    "import numpy as np\n",
    "matrix = np.array([[1, 2, np.nan], [4, np.nan, 6], [7, 8, 9]])\n",
    "row_means_ignore_nan = np.nanmean(matrix, axis=1)\n",
    "print(row_means_ignore_nan)"
   ]
  },
  {
   "cell_type": "code",
   "execution_count": 159,
   "metadata": {},
   "outputs": [
    {
     "name": "stdout",
     "output_type": "stream",
     "text": [
      "1.254756561431603\n"
     ]
    }
   ],
   "source": [
    "# 91\n",
    "import numpy as np\n",
    "matrix = np.random.random((3, 3))\n",
    "diagonal_sum = np.trace(matrix)\n",
    "print(diagonal_sum)"
   ]
  },
  {
   "cell_type": "code",
   "execution_count": 160,
   "metadata": {},
   "outputs": [
    {
     "name": "stdout",
     "output_type": "stream",
     "text": [
      "[ 90. 180. 270.]\n"
     ]
    }
   ],
   "source": [
    "# 92\n",
    "import numpy as np\n",
    "arr_in_radians = np.array([np.pi/2, np.pi, 3*np.pi/2])\n",
    "arr_in_degrees = np.degrees(arr_in_radians)\n",
    "print(arr_in_degrees)"
   ]
  },
  {
   "cell_type": "code",
   "execution_count": 161,
   "metadata": {},
   "outputs": [
    {
     "name": "stdout",
     "output_type": "stream",
     "text": [
      "5.196152422706632\n"
     ]
    }
   ],
   "source": [
    "# 93\n",
    "import numpy as np\n",
    "arr1 = np.array([1, 2, 3])\n",
    "arr2 = np.array([4, 5, 6])\n",
    "euclidean_distance = np.linalg.norm(arr1 - arr2)\n",
    "print(euclidean_distance)"
   ]
  },
  {
   "cell_type": "code",
   "execution_count": 162,
   "metadata": {},
   "outputs": [
    {
     "name": "stdout",
     "output_type": "stream",
     "text": [
      "[10  0  0  0 50]\n"
     ]
    }
   ],
   "source": [
    "# 94\n",
    "import numpy as np\n",
    "arr = np.array([10, 20, 30, 40, 50])\n",
    "percentile_25th = np.percentile(arr, 25)\n",
    "percentile_75th = np.percentile(arr, 75)\n",
    "arr[(arr >= percentile_25th) & (arr <= percentile_75th)] = 0\n",
    "print(arr)"
   ]
  },
  {
   "cell_type": "code",
   "execution_count": 163,
   "metadata": {},
   "outputs": [
    {
     "name": "stdout",
     "output_type": "stream",
     "text": [
      "[9 9 9]\n"
     ]
    }
   ],
   "source": [
    "import numpy as np\n",
    "arr1 = np.array([1, 2, 3])\n",
    "arr2 = np.array([4, 5, 6])\n",
    "squared_difference = (arr1 - arr2)**2\n",
    "print(squared_difference)"
   ]
  },
  {
   "cell_type": "code",
   "execution_count": 168,
   "metadata": {},
   "outputs": [
    {
     "name": "stdout",
     "output_type": "stream",
     "text": [
      "[1 1 3 3 5 5 7 7]\n"
     ]
    }
   ],
   "source": [
    "# 96\n",
    "arr = np.arange(8)\n",
    "arr[arr%2==0] = arr[arr%2==0]+1\n",
    "print(arr)"
   ]
  },
  {
   "cell_type": "code",
   "execution_count": 169,
   "metadata": {},
   "outputs": [
    {
     "name": "stdout",
     "output_type": "stream",
     "text": [
      "[[1.         1.         1.         1.        ]\n",
      " [0.         0.07579925 0.         0.        ]\n",
      " [0.32905712 0.         0.03791551 0.72153926]]\n"
     ]
    }
   ],
   "source": [
    "# 97\n",
    "import numpy as np\n",
    "matrix = np.random.random((3, 4))\n",
    "normalized_columns_range = (matrix - np.min(matrix, axis=0)) / (np.max(matrix, axis=0) - np.min(matrix, axis=0))\n",
    "print(normalized_columns_range)"
   ]
  },
  {
   "cell_type": "code",
   "execution_count": 170,
   "metadata": {},
   "outputs": [
    {
     "name": "stdout",
     "output_type": "stream",
     "text": [
      "[[0.13894425 0.94573806 1.70280259 2.52413006]\n",
      " [0.93551625 1.57916779 2.32727826 2.59339522]\n",
      " [0.96759559 1.30286516 1.8483839  2.00554797]]\n"
     ]
    }
   ],
   "source": [
    "# 98\n",
    "import numpy as np\n",
    "matrix = np.random.random((3, 4))\n",
    "cumulative_sum_axis1 = np.cumsum(matrix, axis=1)\n",
    "print(cumulative_sum_axis1)"
   ]
  },
  {
   "cell_type": "code",
   "execution_count": 171,
   "metadata": {},
   "outputs": [
    {
     "name": "stdout",
     "output_type": "stream",
     "text": [
      "True\n"
     ]
    }
   ],
   "source": [
    "# 99\n",
    "import numpy as np\n",
    "arr = np.array([0, 0, 0, 1, 0])\n",
    "any_nonzero = np.any(arr != 0)\n",
    "print(any_nonzero)"
   ]
  },
  {
   "cell_type": "code",
   "execution_count": 172,
   "metadata": {},
   "outputs": [
    {
     "name": "stdout",
     "output_type": "stream",
     "text": [
      "[[41 75 47 10]\n",
      " [75 65 26 75]\n",
      " [75 44 26 61]]\n"
     ]
    }
   ],
   "source": [
    "# 100\n",
    "import numpy as np\n",
    "matrix = np.random.randint(0, 100, size=(3, 4))\n",
    "threshold = 75\n",
    "matrix[matrix > threshold] = threshold\n",
    "print(matrix)"
   ]
  }
 ],
 "metadata": {
  "kernelspec": {
   "display_name": "Python 3",
   "language": "python",
   "name": "python3"
  },
  "language_info": {
   "codemirror_mode": {
    "name": "ipython",
    "version": 3
   },
   "file_extension": ".py",
   "mimetype": "text/x-python",
   "name": "python",
   "nbconvert_exporter": "python",
   "pygments_lexer": "ipython3",
   "version": "3.12.8"
  }
 },
 "nbformat": 4,
 "nbformat_minor": 2
}
